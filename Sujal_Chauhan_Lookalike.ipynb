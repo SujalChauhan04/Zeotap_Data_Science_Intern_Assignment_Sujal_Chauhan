{
 "cells": [
  {
   "cell_type": "code",
   "execution_count": 2,
   "metadata": {},
   "outputs": [
    {
     "name": "stdout",
     "output_type": "stream",
     "text": [
      "Lookalike model has been generated and saved to 'Sujal_Chauhan_Lookalike.csv'.\n"
     ]
    }
   ],
   "source": [
    "import pandas as pd\n",
    "from sklearn.preprocessing import StandardScaler\n",
    "from sklearn.metrics.pairwise import cosine_similarity\n",
    "\n",
    "customers_df = pd.read_csv('Customers.csv')\n",
    "transactions_df = pd.read_csv('Transactions.csv')\n",
    "\n",
    "merged_df = pd.merge(transactions_df, customers_df, on=\"CustomerID\", how=\"inner\")\n",
    "\n",
    "numerical_features = ['TotalValue', 'Quantity', 'Price']\n",
    "\n",
    "merged_df[numerical_features] = merged_df[numerical_features].fillna(0)\n",
    "\n",
    "customer_profiles = merged_df.groupby('CustomerID')[numerical_features].sum()\n",
    "\n",
    "scaler = StandardScaler()\n",
    "customer_profiles[numerical_features] = scaler.fit_transform(customer_profiles[numerical_features])\n",
    "\n",
    "similarity_matrix = cosine_similarity(customer_profiles[numerical_features])\n",
    "\n",
    "similarity_df = pd.DataFrame(similarity_matrix, index=customer_profiles.index, columns=customer_profiles.index)\n",
    "\n",
    "lookalike_results = {}\n",
    "\n",
    "for customer in customer_profiles.index[:20]:  \n",
    "    similar_customers = similarity_df.loc[customer].sort_values(ascending=False).iloc[1:4]\n",
    "    lookalike_results[customer] = [(similar_customer, round(score, 4)) for similar_customer, score in zip(similar_customers.index, similar_customers.values)]\n",
    "\n",
    "lookalike_df = pd.DataFrame(list(lookalike_results.items()), columns=['CustomerID', 'Lookalikes'])\n",
    "\n",
    "lookalike_df['Lookalikes'] = lookalike_df['Lookalikes'].apply(lambda x: str([(cust, float(score)) for cust, score in x]))\n",
    "\n",
    "lookalike_df.to_csv('Sujal_Chauhan_Lookalike.csv', index=False)\n",
    "\n",
    "print(\"Lookalike model has been generated and saved to 'Sujal_Chauhan_Lookalike.csv'.\")\n"
   ]
  }
 ],
 "metadata": {
  "kernelspec": {
   "display_name": "base",
   "language": "python",
   "name": "python3"
  },
  "language_info": {
   "codemirror_mode": {
    "name": "ipython",
    "version": 3
   },
   "file_extension": ".py",
   "mimetype": "text/x-python",
   "name": "python",
   "nbconvert_exporter": "python",
   "pygments_lexer": "ipython3",
   "version": "3.12.3"
  }
 },
 "nbformat": 4,
 "nbformat_minor": 2
}
